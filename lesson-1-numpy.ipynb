{
 "cells": [
  {
   "cell_type": "markdown",
   "id": "49080157-094a-4f38-a925-673459d107f4",
   "metadata": {},
   "source": [
    "# `numpy`\n",
    "\n",
    "- one of the core packages for numerical computing in Python\n",
    "- many packages are built on top of numpy\n",
    "- `numpy` has been optimized for processing: faster due to memory access"
   ]
  },
  {
   "cell_type": "code",
   "execution_count": 1,
   "id": "d6179521-bd2d-4d65-8421-e3b400ef80be",
   "metadata": {
    "tags": []
   },
   "outputs": [],
   "source": [
    "# import numpy with standard abbreviaton\n",
    "import numpy as np"
   ]
  },
  {
   "cell_type": "markdown",
   "id": "03ff61d4-d008-4ef6-8d9f-4c42e6a70630",
   "metadata": {},
   "source": [
    "# Variables\n",
    "We can think about variables as a name we assign to a particular object in Python. \n",
    "For example:"
   ]
  },
  {
   "cell_type": "code",
   "execution_count": 2,
   "id": "91b1113e-66eb-4387-99be-1bf0bcb6fef3",
   "metadata": {
    "tags": []
   },
   "outputs": [],
   "source": [
    "# assign a small array to a variable a\n",
    "a = np.array([ [1,1,2], [3,5,8] ])"
   ]
  },
  {
   "cell_type": "markdown",
   "id": "58d6db96-a787-4020-b467-3d08b649c3f5",
   "metadata": {},
   "source": [
    "When we run the cell, we store the variable and its value. We can see the cariable's value in two ways:"
   ]
  },
  {
   "cell_type": "code",
   "execution_count": 3,
   "id": "b06faabf-0e56-45b4-95ae-62433cc6fb75",
   "metadata": {
    "tags": []
   },
   "outputs": [
    {
     "data": {
      "text/plain": [
       "array([[1, 1, 2],\n",
       "       [3, 5, 8]])"
      ]
     },
     "execution_count": 3,
     "metadata": {},
     "output_type": "execute_result"
    }
   ],
   "source": [
    "a"
   ]
  },
  {
   "cell_type": "code",
   "execution_count": 4,
   "id": "1181e3f8-7caf-4db6-94d2-627fffe3b480",
   "metadata": {
    "tags": []
   },
   "outputs": [
    {
     "name": "stdout",
     "output_type": "stream",
     "text": [
      "[[1 1 2]\n",
      " [3 5 8]]\n"
     ]
    }
   ],
   "source": [
    "print(a)"
   ]
  },
  {
   "cell_type": "markdown",
   "id": "19a4aff6-6a6e-41ac-809f-25baae826d3e",
   "metadata": {},
   "source": [
    "## naming variables\n",
    "in the class we are going to use `snake_case` for naming variables. \n",
    "\n",
    "# Variables and objects\n",
    "\n",
    "**object**: often encountered in Python documentation and tutorials.\n",
    "\n",
    "object is a bundle of properties and actions about something specific. \n",
    "\n",
    "Example:\n",
    "\n",
    "- object: data frame\n",
    "- properties: number of rows, names of columns, data created\n",
    "- actions: selecting a row, adding a column\n",
    "\n",
    "A variable is a name we give a specific object, and the same object can be referenced by different variables. \n",
    "\n",
    "Example:\n",
    "\n",
    "- The Sun (actual star at the center of the solar system) = object\n",
    "- sol = Spanish word for Sun = variable\n",
    "- soleil = French for Sun = another variable\n",
    "\n",
    "In practice: we will use object and variable interchangeably"
   ]
  },
  {
   "cell_type": "markdown",
   "id": "5dbd37c4-dc56-4faf-b94e-897c437fda02",
   "metadata": {},
   "source": [
    "# Types\n",
    "\n",
    "Each object in Python has a type.\n",
    "\n",
    "type = what kind of object it is\n",
    "\n",
    "We can also call the type of the object, the **class** of the object.\n",
    "\n",
    "We can see the type/class of an object by using the `type` function:"
   ]
  },
  {
   "cell_type": "code",
   "execution_count": 5,
   "id": "ac597b47-6c7d-4af5-b38d-d8ae76f4b386",
   "metadata": {
    "tags": []
   },
   "outputs": [
    {
     "name": "stdout",
     "output_type": "stream",
     "text": [
      "[[1 1 2]\n",
      " [3 5 8]]\n"
     ]
    },
    {
     "data": {
      "text/plain": [
       "numpy.ndarray"
      ]
     },
     "execution_count": 5,
     "metadata": {},
     "output_type": "execute_result"
    }
   ],
   "source": [
    "print(a)\n",
    "type(a)"
   ]
  },
  {
   "cell_type": "markdown",
   "id": "d0007a79-58cf-4f24-91ce-840b6b5744ce",
   "metadata": {},
   "source": [
    "The `numpy.ndarray` is the core object/data type in the NumPy package. We can check the type of an entry in the array by indexing:"
   ]
  },
  {
   "cell_type": "code",
   "execution_count": 6,
   "id": "81428ba1-5b5f-467b-b213-3ed79732737f",
   "metadata": {
    "tags": []
   },
   "outputs": [
    {
     "name": "stdout",
     "output_type": "stream",
     "text": [
      "1\n"
     ]
    },
    {
     "data": {
      "text/plain": [
       "numpy.int64"
      ]
     },
     "execution_count": 6,
     "metadata": {},
     "output_type": "execute_result"
    }
   ],
   "source": [
    "print(a[0,0])\n",
    "type(a[0,0])"
   ]
  },
  {
   "cell_type": "code",
   "execution_count": 7,
   "id": "a6446102-dd93-41ff-9e48-d8be2a5f7d5e",
   "metadata": {
    "tags": []
   },
   "outputs": [
    {
     "name": "stdout",
     "output_type": "stream",
     "text": [
      "5\n"
     ]
    }
   ],
   "source": [
    "# how to access teh value 5 in the array a?\n",
    "print(a[1,1])"
   ]
  },
  {
   "cell_type": "markdown",
   "id": "b6f84b57-17ce-474f-8725-9592144d6115",
   "metadata": {},
   "source": [
    "# Functions\n",
    "\n",
    "`print` was out example of a Python function! :)\n",
    "\n",
    "A function:\n",
    "- take in a set of **arguments**, separated by commas, and \n",
    "- use those arguments to produce some **output**\n",
    "\n",
    "argument = parameter : you might see argument more often in the documentation\n",
    "\n",
    "We can ask information about a function by executing `?` followed by the function name:"
   ]
  },
  {
   "cell_type": "code",
   "execution_count": 8,
   "id": "879a8a6f-5e70-415a-a651-864a882f165f",
   "metadata": {
    "tags": []
   },
   "outputs": [
    {
     "data": {
      "text/plain": [
       "\u001b[0;31mDocstring:\u001b[0m\n",
       "print(value, ..., sep=' ', end='\\n', file=sys.stdout, flush=False)\n",
       "\n",
       "Prints the values to a stream, or to sys.stdout by default.\n",
       "Optional keyword arguments:\n",
       "file:  a file-like object (stream); defaults to the current sys.stdout.\n",
       "sep:   string inserted between values, default a space.\n",
       "end:   string appended after the last value, default a newline.\n",
       "flush: whether to forcibly flush the stream.\n",
       "\u001b[0;31mType:\u001b[0m      builtin_function_or_method\n"
      ]
     },
     "metadata": {},
     "output_type": "display_data"
    }
   ],
   "source": [
    "?print"
   ]
  },
  {
   "cell_type": "markdown",
   "id": "dac3d4da-8aa3-4bb2-9bb9-b2c16e1fb3b1",
   "metadata": {},
   "source": [
    "- first line: function showing all of its arguments in paranthesis\n",
    "- then a short description of what the function does\n",
    "- finally, a list of the arguments and a brief explanation of each of them. \n",
    "\n",
    "Different types of arguments inside the parenthesis. Roughly speaking, there are two types of arguments:\n",
    "\n",
    "- **non-optional arguments**: arguments you need to specify for the function to do something.\n",
    "- **optional arguments**: arguments that are pre-filled with a default value by the function, but we can override them. Optional arguments appear inside the parenthesis () in the form\n",
    "\n",
    "`optional argument = default_value`"
   ]
  },
  {
   "cell_type": "code",
   "execution_count": 12,
   "id": "09a7f8b6-3eec-412c-a08a-0261455b9ea4",
   "metadata": {
    "tags": []
   },
   "outputs": [
    {
     "name": "stdout",
     "output_type": "stream",
     "text": [
      "changing the default end argument of the print function:)"
     ]
    }
   ],
   "source": [
    "print('changing the default end argument of the print function', end = ':)')"
   ]
  },
  {
   "cell_type": "code",
   "execution_count": 13,
   "id": "3820e239-4df4-43f7-ad5a-071e71f21121",
   "metadata": {
    "tags": []
   },
   "outputs": [
    {
     "name": "stdout",
     "output_type": "stream",
     "text": [
      "changing the default end argument of the print function\n"
     ]
    }
   ],
   "source": [
    "print('changing the default end argument of the print function')"
   ]
  },
  {
   "cell_type": "markdown",
   "id": "09036551-dcc9-4ae3-9b5c-616e84e701b8",
   "metadata": {},
   "source": [
    "# Attributes & Methods\n",
    "\n",
    "An object in Python has attributes and methods.\n",
    "\n",
    "- **attribute**: a property of an object, a piece of information about it.\n",
    "- **method**: a procedure associated with an object, an action where the main ingredient is the object itself. \n",
    "\n",
    "Example: object - fish\n",
    "         attribute - color, name, weight\n",
    "         method - swim(), eat(), jump()\n",
    "         \n",
    "Access a variable's attributes and methods by adding a period `.` at the end of the variable's name\n",
    "\n",
    "`variable.variable_method()` or\n",
    "\n",
    "`variable.variable_attribute()`\n",
    "\n",
    "Examples:\n",
    "\n",
    "Methods and attributes of NumPy arrays:"
   ]
  },
  {
   "cell_type": "code",
   "execution_count": 6,
   "id": "0efd42ec-e86f-4f28-afc0-a397598fc549",
   "metadata": {
    "tags": []
   },
   "outputs": [],
   "source": [
    "import numpy as np"
   ]
  },
  {
   "cell_type": "code",
   "execution_count": 7,
   "id": "5c3dd65a-a857-4277-92e4-8c375b4feb89",
   "metadata": {
    "tags": []
   },
   "outputs": [
    {
     "data": {
      "text/plain": [
       "array([[1, 2, 3],\n",
       "       [4, 5, 6],\n",
       "       [7, 8, 9]])"
      ]
     },
     "execution_count": 7,
     "metadata": {},
     "output_type": "execute_result"
    }
   ],
   "source": [
    "# define a 3x3 array\n",
    "var = np.array( [ [1,2,3], [4,5,6], [7,8,9] ] )\n",
    "\n",
    "var"
   ]
  },
  {
   "cell_type": "code",
   "execution_count": 8,
   "id": "4b7dc27c-0691-40cb-92e2-ed852d1743be",
   "metadata": {
    "tags": []
   },
   "outputs": [
    {
     "data": {
      "text/plain": [
       "(3, 3)"
      ]
     },
     "execution_count": 8,
     "metadata": {},
     "output_type": "execute_result"
    }
   ],
   "source": [
    "# shape : attribute telling us\n",
    "# the number of elements in each dimension of the array\n",
    "var.shape"
   ]
  },
  {
   "cell_type": "code",
   "execution_count": 9,
   "id": "0bacc92d-5950-4cb9-88c0-4df45792cbd4",
   "metadata": {
    "tags": []
   },
   "outputs": [
    {
     "data": {
      "text/plain": [
       "tuple"
      ]
     },
     "execution_count": 9,
     "metadata": {},
     "output_type": "execute_result"
    }
   ],
   "source": [
    "type(var.shape)"
   ]
  },
  {
   "cell_type": "code",
   "execution_count": 10,
   "id": "d89686dd-3449-4f2e-91a1-b0441357c3ea",
   "metadata": {
    "tags": []
   },
   "outputs": [
    {
     "data": {
      "text/plain": [
       "2"
      ]
     },
     "execution_count": 10,
     "metadata": {},
     "output_type": "execute_result"
    }
   ],
   "source": [
    "# ndim is an attribute holding the number of array dimensions\n",
    "var.ndim"
   ]
  },
  {
   "cell_type": "code",
   "execution_count": 11,
   "id": "a0615725-a96c-45a4-85e0-572ca56a2c12",
   "metadata": {
    "tags": []
   },
   "outputs": [
    {
     "data": {
      "text/plain": [
       "int"
      ]
     },
     "execution_count": 11,
     "metadata": {},
     "output_type": "execute_result"
    }
   ],
   "source": [
    "type(var.ndim)"
   ]
  },
  {
   "cell_type": "markdown",
   "id": "3a2b1f6c-6bc5-4c1c-82fb-e6581b70b61c",
   "metadata": {},
   "source": [
    "Notice attributes can have many different data types.\n",
    "\n",
    "Examples of methods:"
   ]
  },
  {
   "cell_type": "code",
   "execution_count": 13,
   "id": "20449157-6841-49ab-8b83-d41e6ecfd087",
   "metadata": {
    "tags": []
   },
   "outputs": [
    {
     "data": {
      "text/plain": [
       "1"
      ]
     },
     "execution_count": 13,
     "metadata": {},
     "output_type": "execute_result"
    }
   ],
   "source": [
    "# min method for array\n",
    "# return the minimum value in the array\n",
    "var.min()"
   ]
  },
  {
   "cell_type": "code",
   "execution_count": 14,
   "id": "4da37b91-9e76-48ed-b89f-fd65d90c46cd",
   "metadata": {
    "tags": []
   },
   "outputs": [
    {
     "data": {
      "text/plain": [
       "builtin_function_or_method"
      ]
     },
     "execution_count": 14,
     "metadata": {},
     "output_type": "execute_result"
    }
   ],
   "source": [
    "type(var.min)"
   ]
  },
  {
   "cell_type": "markdown",
   "id": "01306e9c-cd26-457f-9b86-85424c2aab83",
   "metadata": {},
   "source": [
    "# R & Python\n",
    "R:\n",
    "- doesn't use methods within an object\n",
    "- functions in R are extrinsic to (outside) the objects they are acting on\n",
    "\n",
    "Example : recreate getting the min value in an array\n",
    "\n",
    "In R there would be two separate items: the variable `var` and a *separate* function `min` that gets `var` as a parameter:\n",
    "\n",
    "```\n",
    "# this is R code:\n",
    "var <- array(c(1,4,7,2,5,8,3,6,9), dim=c(3,3))\n",
    "min(var)\n",
    "```\n",
    "\n",
    "Using the pipe operator %>% in R's tidyverse is closer to the `.` in Python:\n",
    "\n",
    "```\n",
    "var <- array(c(1,4,7,2,5,8,3,6,9), dim=c(3,3))\n",
    "var %>% min()\n",
    "```\n",
    "\n",
    "What is happening?\n",
    "The pipe `%>%` is passing `var` to the `min()` as its first argument. This is essentially what the `.` does in Python.:\n",
    "\n",
    "```\n",
    "var = np.array( [ [1,2,3], [4,5,6], [7,8,9] ] )\n",
    "var.min()\n",
    "```"
   ]
  }
 ],
 "metadata": {
  "kernelspec": {
   "display_name": "Anaconda 3 (Base)",
   "language": "python",
   "name": "base"
  },
  "language_info": {
   "codemirror_mode": {
    "name": "ipython",
    "version": 3
   },
   "file_extension": ".py",
   "mimetype": "text/x-python",
   "name": "python",
   "nbconvert_exporter": "python",
   "pygments_lexer": "ipython3",
   "version": "3.9.13"
  }
 },
 "nbformat": 4,
 "nbformat_minor": 5
}
