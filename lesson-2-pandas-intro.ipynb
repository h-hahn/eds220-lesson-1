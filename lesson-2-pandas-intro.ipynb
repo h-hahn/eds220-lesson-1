{
 "cells": [
  {
   "cell_type": "markdown",
   "id": "96ac7ee5-d38b-4cd5-aa11-ad837b2ab10c",
   "metadata": {},
   "source": [
    "# Objectives\n",
    "\n",
    "review core `pandas` objects: `panda.Series` and `pandas.DataFrame`\n",
    "\n",
    "# `pandas`\n",
    "- Python package to wrangle and analyze tabular data\n",
    "- built on top of NumPy\n",
    "- core tool for data analysis in Python"
   ]
  },
  {
   "cell_type": "code",
   "execution_count": 1,
   "id": "aba0f52c-31e9-456c-966e-7dc9f7ab3bb6",
   "metadata": {
    "tags": []
   },
   "outputs": [],
   "source": [
    "# import pandas with standard abbreviation\n",
    "import pandas as pd\n",
    "\n",
    "# import numpy too!\n",
    "import numpy as np"
   ]
  },
  {
   "cell_type": "markdown",
   "id": "d90c0f6f-6a8c-49ee-a627-2bcd5b2b2767",
   "metadata": {},
   "source": [
    "# Series\n",
    "\n",
    "A `panda.Series`:\n",
    "\n",
    "- is one of the core data structures in `pandas`\n",
    "- a 1-dimensional array of *indexed* data\n",
    "- will be the columns of the `pandas.DataFrame`\n",
    "\n",
    "# Creating a pandas Series\n",
    "\n",
    "Several ways of creating a pandas Series. \n",
    "For now, we will create series using:\n",
    "\n",
    "```\n",
    "s = pd.Series(data, index)\n",
    "```\n",
    "\n",
    "- `data` = numpy array (or a list of objects that can be converted to NumPy types)\n",
    "- `index` = a list of indices of same length as data"
   ]
  },
  {
   "cell_type": "code",
   "execution_count": 4,
   "id": "b97bcfcb-8074-484f-8ee4-9b5e9df3f44c",
   "metadata": {
    "tags": []
   },
   "outputs": [
    {
     "data": {
      "text/plain": [
       "array([0, 1, 2])"
      ]
     },
     "execution_count": 4,
     "metadata": {},
     "output_type": "execute_result"
    }
   ],
   "source": [
    "# EX: a pandas series from a numpy array\n",
    "\n",
    "# np.arrange() function constructs an array of consecutive integers\n",
    "np.arange(3)"
   ]
  },
  {
   "cell_type": "code",
   "execution_count": 8,
   "id": "953e93e7-53de-42bf-9799-9c1886dbe2df",
   "metadata": {
    "tags": []
   },
   "outputs": [
    {
     "data": {
      "text/plain": [
       "a    0\n",
       "b    1\n",
       "c    2\n",
       "dtype: int64"
      ]
     },
     "execution_count": 8,
     "metadata": {},
     "output_type": "execute_result"
    }
   ],
   "source": [
    "# we can use this to create a pandas Series\n",
    "# need same number of indices as items\n",
    "pd.Series(np.arange(3), index=['a','b','c'])"
   ]
  },
  {
   "cell_type": "markdown",
   "id": "df0317a2-7ee2-4f4f-a5dc-fe3d21551c9d",
   "metadata": {},
   "source": [
    "What kind of parameter is `index`?\n",
    "\n",
    "A: an optional parameter, there is a default value to it.\n",
    "\n",
    "If we don't specify `index`, the default is to start the index from 0.\n",
    "\n",
    "Example:"
   ]
  },
  {
   "cell_type": "code",
   "execution_count": 9,
   "id": "51d36c89-a15d-402f-b724-60b1283978a8",
   "metadata": {
    "tags": []
   },
   "outputs": [
    {
     "data": {
      "text/plain": [
       "0    EDS 220\n",
       "1    EDS 222\n",
       "2    EDS 223\n",
       "3    EDS 242\n",
       "dtype: object"
      ]
     },
     "execution_count": 9,
     "metadata": {},
     "output_type": "execute_result"
    }
   ],
   "source": [
    "# create a series from a list of strings with default index\n",
    "pd.Series(['EDS 220', 'EDS 222', 'EDS 223', 'EDS 242'])"
   ]
  },
  {
   "cell_type": "markdown",
   "id": "bd6c4422-07b7-4aca-b59b-58a00398e342",
   "metadata": {},
   "source": [
    "# Operations of series\n",
    "\n",
    "Arithmetic operations work on series on also most NumPy functions.\n",
    "\n",
    "Example:"
   ]
  },
  {
   "cell_type": "code",
   "execution_count": 14,
   "id": "1ee0d522-931e-48eb-8376-91bce22acc46",
   "metadata": {
    "tags": []
   },
   "outputs": [
    {
     "name": "stdout",
     "output_type": "stream",
     "text": [
      "Olivia    98\n",
      "Liane     93\n",
      "Diana     95\n",
      "dtype: int64 \n",
      "\n",
      "Olivia    9.8\n",
      "Liane     9.3\n",
      "Diana     9.5\n",
      "dtype: float64\n"
     ]
    }
   ],
   "source": [
    "# define a series\n",
    "s = pd.Series( [98, 93, 95], index = ['Olivia', 'Liane', 'Diana'] )\n",
    "print(s, '\\n')\n",
    "\n",
    "# divide each element in the series by 10:\n",
    "print( s/10 )"
   ]
  },
  {
   "cell_type": "markdown",
   "id": "61ee7925-fe68-4828-9c4e-7b99329086da",
   "metadata": {},
   "source": [
    "Example: create a new Series with `True`/`False` values indicating whether the elements in the series satisfy a condition or not. "
   ]
  },
  {
   "cell_type": "code",
   "execution_count": 15,
   "id": "0da6b55e-3f34-4e17-a300-2566f717f527",
   "metadata": {
    "tags": []
   },
   "outputs": [
    {
     "data": {
      "text/plain": [
       "Olivia    True\n",
       "Liane     True\n",
       "Diana     True\n",
       "dtype: bool"
      ]
     },
     "execution_count": 15,
     "metadata": {},
     "output_type": "execute_result"
    }
   ],
   "source": [
    "s>70"
   ]
  },
  {
   "cell_type": "markdown",
   "id": "41046085-2a15-4f48-a41a-592790c9f7bd",
   "metadata": {
    "tags": []
   },
   "source": [
    "#### This is simple -- but important!! Using conditions on Series is key to select data from dataframes."
   ]
  },
  {
   "cell_type": "markdown",
   "id": "110ac525-3ab0-4312-b261-896b3b0ba0c9",
   "metadata": {
    "tags": []
   },
   "source": [
    "## Attributes & Methods\n",
    "\n",
    "Two examples about identifying missing values.\n",
    "\n",
    "- missing values in `pandas` are represented by `np.NaN` = not a number\n",
    "- `NaN` is a type of float in NumPy"
   ]
  },
  {
   "cell_type": "code",
   "execution_count": 18,
   "id": "1613dc70-0948-4ad1-bbba-5e9c1ec6ab5a",
   "metadata": {
    "tags": []
   },
   "outputs": [
    {
     "data": {
      "text/plain": [
       "nan"
      ]
     },
     "execution_count": 18,
     "metadata": {},
     "output_type": "execute_result"
    }
   ],
   "source": [
    "np.NaN"
   ]
  },
  {
   "cell_type": "code",
   "execution_count": 19,
   "id": "1591ad79-79ca-458f-a974-187a042cec2d",
   "metadata": {
    "tags": []
   },
   "outputs": [
    {
     "data": {
      "text/plain": [
       "float"
      ]
     },
     "execution_count": 19,
     "metadata": {},
     "output_type": "execute_result"
    }
   ],
   "source": [
    "type(np.NaN)"
   ]
  },
  {
   "cell_type": "code",
   "execution_count": 21,
   "id": "1b16779e-8e6c-4851-8cb1-abeb7ca2b27e",
   "metadata": {
    "tags": []
   },
   "outputs": [
    {
     "data": {
      "text/plain": [
       "0    1.0\n",
       "1    2.0\n",
       "2    NaN\n",
       "3    4.0\n",
       "4    NaN\n",
       "dtype: float64"
      ]
     },
     "execution_count": 21,
     "metadata": {},
     "output_type": "execute_result"
    }
   ],
   "source": [
    "# series with NAs in it:\n",
    "s = pd.Series([1, 2, np.NaN, 4, np.NaN])\n",
    "s"
   ]
  },
  {
   "cell_type": "markdown",
   "id": "d54336db-44b2-44bf-b1a9-dd523891c636",
   "metadata": {},
   "source": [
    "`hasnans` = attribute of pandas series, returns `True` if there are any NAs:"
   ]
  },
  {
   "cell_type": "code",
   "execution_count": 22,
   "id": "9683f689-0b32-46f4-954c-4ba2e1236140",
   "metadata": {
    "tags": []
   },
   "outputs": [
    {
     "data": {
      "text/plain": [
       "True"
      ]
     },
     "execution_count": 22,
     "metadata": {},
     "output_type": "execute_result"
    }
   ],
   "source": [
    "# check if series has NAs\n",
    "s.hasnans"
   ]
  },
  {
   "cell_type": "markdown",
   "id": "8f5c3699-dde4-4b78-a8af-dd14a088e762",
   "metadata": {},
   "source": [
    "`isna()` = a *method* of series, returns a series indicating which elements are NAs:"
   ]
  },
  {
   "cell_type": "code",
   "execution_count": 23,
   "id": "12f30405-4076-4593-8e7b-ca7e56b229f0",
   "metadata": {
    "tags": []
   },
   "outputs": [
    {
     "data": {
      "text/plain": [
       "0    False\n",
       "1    False\n",
       "2     True\n",
       "3    False\n",
       "4     True\n",
       "dtype: bool"
      ]
     },
     "execution_count": 23,
     "metadata": {},
     "output_type": "execute_result"
    }
   ],
   "source": [
    "s.isna()"
   ]
  },
  {
   "cell_type": "markdown",
   "id": "a00f49c3-d18a-439c-be64-04b7ed3644df",
   "metadata": {},
   "source": [
    "`bool` = `True` or `False` are **boolean values**"
   ]
  },
  {
   "cell_type": "markdown",
   "id": "0448bf37-c719-4ddc-b277-b5c25b5ba70b",
   "metadata": {},
   "source": [
    "# Dataframes\n",
    "\n",
    "`pandas.DataFrame`:\n",
    "\n",
    "- most used object in `pandas`\n",
    "- represents tabular data (think of a spreadsheet)\n",
    "- each column is a 'pandas.Series'\n",
    "\n",
    "# Creating a `pandas.DataFrame`\n",
    "\n",
    "*Many ways of creating a dataframe*. Let's see one.\n",
    "\n",
    "Remember dictionaries? They are sets of key-value pairs:\n",
    "\n",
    "```\n",
    "{ key1 : value1,\n",
    "  key2 : value2\n",
    "}\n",
    "```\n",
    "\n",
    "Think of a `pd.DataFrame` as a dictionary where:\n",
    "\n",
    "- keys = column names\n",
    "- values = column values\n",
    "\n",
    "We can create a dataframe like this:"
   ]
  },
  {
   "cell_type": "code",
   "execution_count": 26,
   "id": "785466ba-5c39-4c22-9e4c-34a073148bfd",
   "metadata": {
    "tags": []
   },
   "outputs": [
    {
     "data": {
      "text/plain": [
       "{'col_name_1': array([0, 1, 2]), 'col_name_2': [3.1, 3.2, 3.3]}"
      ]
     },
     "execution_count": 26,
     "metadata": {},
     "output_type": "execute_result"
    }
   ],
   "source": [
    "# initialize a dictionary with columns' data\n",
    "d = {'col_name_1' : np.arange(3),\n",
    "     'col_name_2': [3.1, 3.2, 3.3]\n",
    "    }\n",
    "d"
   ]
  },
  {
   "cell_type": "code",
   "execution_count": 27,
   "id": "bff2ac0a-748d-4477-bf57-3aee66d813af",
   "metadata": {
    "tags": []
   },
   "outputs": [
    {
     "data": {
      "text/html": [
       "<div>\n",
       "<style scoped>\n",
       "    .dataframe tbody tr th:only-of-type {\n",
       "        vertical-align: middle;\n",
       "    }\n",
       "\n",
       "    .dataframe tbody tr th {\n",
       "        vertical-align: top;\n",
       "    }\n",
       "\n",
       "    .dataframe thead th {\n",
       "        text-align: right;\n",
       "    }\n",
       "</style>\n",
       "<table border=\"1\" class=\"dataframe\">\n",
       "  <thead>\n",
       "    <tr style=\"text-align: right;\">\n",
       "      <th></th>\n",
       "      <th>col_name_1</th>\n",
       "      <th>col_name_2</th>\n",
       "    </tr>\n",
       "  </thead>\n",
       "  <tbody>\n",
       "    <tr>\n",
       "      <th>0</th>\n",
       "      <td>0</td>\n",
       "      <td>3.1</td>\n",
       "    </tr>\n",
       "    <tr>\n",
       "      <th>1</th>\n",
       "      <td>1</td>\n",
       "      <td>3.2</td>\n",
       "    </tr>\n",
       "    <tr>\n",
       "      <th>2</th>\n",
       "      <td>2</td>\n",
       "      <td>3.3</td>\n",
       "    </tr>\n",
       "  </tbody>\n",
       "</table>\n",
       "</div>"
      ],
      "text/plain": [
       "   col_name_1  col_name_2\n",
       "0           0         3.1\n",
       "1           1         3.2\n",
       "2           2         3.3"
      ]
     },
     "execution_count": 27,
     "metadata": {},
     "output_type": "execute_result"
    }
   ],
   "source": [
    "# create data frame\n",
    "df = pd.DataFrame(d)\n",
    "df"
   ]
  },
  {
   "cell_type": "markdown",
   "id": "f0aec3cc-90b2-4a9b-b29f-1b1d7f2e6743",
   "metadata": {},
   "source": [
    "# In-place operations\n",
    "Let's rename the data frame's columns.\n",
    "We can use a dataframe *method* called `rename`.\n",
    "`rename` takes in as an input a dictionary:\n",
    "\n",
    "```\n",
    "{'col_1_old_name' : 'col_1_new_name',\n",
    " 'col_2_old_name' : 'col_2_new_name'}\n",
    "```"
   ]
  },
  {
   "cell_type": "code",
   "execution_count": 29,
   "id": "b318a5b9-f1fc-4a3d-a684-3a9363b274ab",
   "metadata": {
    "tags": []
   },
   "outputs": [
    {
     "data": {
      "text/html": [
       "<div>\n",
       "<style scoped>\n",
       "    .dataframe tbody tr th:only-of-type {\n",
       "        vertical-align: middle;\n",
       "    }\n",
       "\n",
       "    .dataframe tbody tr th {\n",
       "        vertical-align: top;\n",
       "    }\n",
       "\n",
       "    .dataframe thead th {\n",
       "        text-align: right;\n",
       "    }\n",
       "</style>\n",
       "<table border=\"1\" class=\"dataframe\">\n",
       "  <thead>\n",
       "    <tr style=\"text-align: right;\">\n",
       "      <th></th>\n",
       "      <th>col1</th>\n",
       "      <th>col2</th>\n",
       "    </tr>\n",
       "  </thead>\n",
       "  <tbody>\n",
       "    <tr>\n",
       "      <th>0</th>\n",
       "      <td>0</td>\n",
       "      <td>3.1</td>\n",
       "    </tr>\n",
       "    <tr>\n",
       "      <th>1</th>\n",
       "      <td>1</td>\n",
       "      <td>3.2</td>\n",
       "    </tr>\n",
       "    <tr>\n",
       "      <th>2</th>\n",
       "      <td>2</td>\n",
       "      <td>3.3</td>\n",
       "    </tr>\n",
       "  </tbody>\n",
       "</table>\n",
       "</div>"
      ],
      "text/plain": [
       "   col1  col2\n",
       "0     0   3.1\n",
       "1     1   3.2\n",
       "2     2   3.3"
      ]
     },
     "execution_count": 29,
     "metadata": {},
     "output_type": "execute_result"
    }
   ],
   "source": [
    "# define new column names\n",
    "col_names = {'col_name_1' : 'col1',\n",
    "             'col_name_2' : 'col2'}\n",
    "\n",
    "# rename using rename\n",
    "df.rename(columns = col_names)"
   ]
  },
  {
   "cell_type": "code",
   "execution_count": 30,
   "id": "afb58159-e7df-4e01-b699-cd8ff1f67d88",
   "metadata": {
    "tags": []
   },
   "outputs": [
    {
     "data": {
      "text/html": [
       "<div>\n",
       "<style scoped>\n",
       "    .dataframe tbody tr th:only-of-type {\n",
       "        vertical-align: middle;\n",
       "    }\n",
       "\n",
       "    .dataframe tbody tr th {\n",
       "        vertical-align: top;\n",
       "    }\n",
       "\n",
       "    .dataframe thead th {\n",
       "        text-align: right;\n",
       "    }\n",
       "</style>\n",
       "<table border=\"1\" class=\"dataframe\">\n",
       "  <thead>\n",
       "    <tr style=\"text-align: right;\">\n",
       "      <th></th>\n",
       "      <th>col_name_1</th>\n",
       "      <th>col_name_2</th>\n",
       "    </tr>\n",
       "  </thead>\n",
       "  <tbody>\n",
       "    <tr>\n",
       "      <th>0</th>\n",
       "      <td>0</td>\n",
       "      <td>3.1</td>\n",
       "    </tr>\n",
       "    <tr>\n",
       "      <th>1</th>\n",
       "      <td>1</td>\n",
       "      <td>3.2</td>\n",
       "    </tr>\n",
       "    <tr>\n",
       "      <th>2</th>\n",
       "      <td>2</td>\n",
       "      <td>3.3</td>\n",
       "    </tr>\n",
       "  </tbody>\n",
       "</table>\n",
       "</div>"
      ],
      "text/plain": [
       "   col_name_1  col_name_2\n",
       "0           0         3.1\n",
       "1           1         3.2\n",
       "2           2         3.3"
      ]
     },
     "execution_count": 30,
     "metadata": {},
     "output_type": "execute_result"
    }
   ],
   "source": [
    "# take a look at our dataframe\n",
    "df"
   ]
  },
  {
   "cell_type": "markdown",
   "id": "001f40d3-6733-495f-9b1a-3ce207fd9203",
   "metadata": {},
   "source": [
    "Nothing changed!\n",
    "`df.rename()` doesn't change the column names *in place*, meaning it doesn't modify the object itself. Instead, it created a new object as an output.\n",
    "\n",
    "Assign output back to dataframe to actually change it. "
   ]
  },
  {
   "cell_type": "code",
   "execution_count": 31,
   "id": "375cc2b4-b97f-4671-90be-2ecd9ae1bdc6",
   "metadata": {
    "tags": []
   },
   "outputs": [
    {
     "data": {
      "text/html": [
       "<div>\n",
       "<style scoped>\n",
       "    .dataframe tbody tr th:only-of-type {\n",
       "        vertical-align: middle;\n",
       "    }\n",
       "\n",
       "    .dataframe tbody tr th {\n",
       "        vertical-align: top;\n",
       "    }\n",
       "\n",
       "    .dataframe thead th {\n",
       "        text-align: right;\n",
       "    }\n",
       "</style>\n",
       "<table border=\"1\" class=\"dataframe\">\n",
       "  <thead>\n",
       "    <tr style=\"text-align: right;\">\n",
       "      <th></th>\n",
       "      <th>col1</th>\n",
       "      <th>col2</th>\n",
       "    </tr>\n",
       "  </thead>\n",
       "  <tbody>\n",
       "    <tr>\n",
       "      <th>0</th>\n",
       "      <td>0</td>\n",
       "      <td>3.1</td>\n",
       "    </tr>\n",
       "    <tr>\n",
       "      <th>1</th>\n",
       "      <td>1</td>\n",
       "      <td>3.2</td>\n",
       "    </tr>\n",
       "    <tr>\n",
       "      <th>2</th>\n",
       "      <td>2</td>\n",
       "      <td>3.3</td>\n",
       "    </tr>\n",
       "  </tbody>\n",
       "</table>\n",
       "</div>"
      ],
      "text/plain": [
       "   col1  col2\n",
       "0     0   3.1\n",
       "1     1   3.2\n",
       "2     2   3.3"
      ]
     },
     "execution_count": 31,
     "metadata": {},
     "output_type": "execute_result"
    }
   ],
   "source": [
    "df = df.rename(columns = col_names)\n",
    "df"
   ]
  },
  {
   "cell_type": "code",
   "execution_count": null,
   "id": "e1f739e5-1c66-47cf-8a08-4459313be160",
   "metadata": {},
   "outputs": [],
   "source": []
  }
 ],
 "metadata": {
  "kernelspec": {
   "display_name": "Anaconda 3 (Base)",
   "language": "python",
   "name": "base"
  },
  "language_info": {
   "codemirror_mode": {
    "name": "ipython",
    "version": 3
   },
   "file_extension": ".py",
   "mimetype": "text/x-python",
   "name": "python",
   "nbconvert_exporter": "python",
   "pygments_lexer": "ipython3",
   "version": "3.9.13"
  }
 },
 "nbformat": 4,
 "nbformat_minor": 5
}
